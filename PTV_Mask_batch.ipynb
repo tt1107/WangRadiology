{
 "cells": [
  {
   "cell_type": "markdown",
   "metadata": {},
   "source": [
    "# Task: Generate 3D PTV Mask and 2D GTV Mask for All Patients"
   ]
  },
  {
   "cell_type": "code",
   "execution_count": null,
   "metadata": {},
   "outputs": [],
   "source": [
    "import numpy as np\n",
    "import nrrd\n",
    "import nibabel as nib\n",
    "from IPython.core.interactiveshell import InteractiveShell\n",
    "import matplotlib.pyplot as plt\n",
    "import matplotlib\n",
    "import sys\n",
    "import mpl_toolkits.mplot3d\n",
    "from skimage import measure, morphology\n",
    "from mpl_toolkits.mplot3d.art3d import Poly3DCollection\n",
    "import scipy\n",
    "import skimage\n",
    "import pathlib\n",
    "from pathlib import Path\n",
    "from tqdm.notebook import tqdm\n",
    "from typing import Union, Optional, Tuple, Sized\n",
    "\n",
    "InteractiveShell.ast_node_interactivity = 'all'\n",
    "%matplotlib inline"
   ]
  },
  {
   "cell_type": "markdown",
   "metadata": {},
   "source": [
    "## Check Package Version"
   ]
  },
  {
   "cell_type": "code",
   "execution_count": null,
   "metadata": {},
   "outputs": [],
   "source": [
    "f'python: {sys.version}'\n",
    "f'matplotlib: {matplotlib.__version__}'\n",
    "f'skimage: {skimage.__version__}'\n",
    "f'scipy: {scipy.__version__}'"
   ]
  },
  {
   "cell_type": "markdown",
   "metadata": {},
   "source": [
    "## Util: Plot Function"
   ]
  },
  {
   "cell_type": "code",
   "execution_count": null,
   "metadata": {},
   "outputs": [],
   "source": [
    "def plot_3d(image, threshold=0, step_size=1):\n",
    "    p = image.transpose(2, 1, 0)\n",
    "\n",
    "    verts, faces, _, _ = measure.marching_cubes_lewiner(\n",
    "        p,\n",
    "        threshold,\n",
    "        step_size=step_size,\n",
    "        allow_degenerate=False,\n",
    "    )\n",
    "\n",
    "    fig = plt.figure(figsize=(10, 10), dpi=200)\n",
    "    ax = fig.add_subplot(111, projection='3d')\n",
    "\n",
    "    mesh = Poly3DCollection(verts[faces], alpha=0.10)\n",
    "    face_color = [0.45, 0.45, 0.75]\n",
    "    mesh.set_facecolor(face_color)\n",
    "    ax.add_collection3d(mesh)\n",
    "\n",
    "    ax.set_xlim(0, p.shape[0])\n",
    "    ax.set_ylim(0, p.shape[1])\n",
    "    ax.set_zlim(0, p.shape[2])\n",
    "\n",
    "    plt.show()\n",
    "    \n",
    "\n",
    "def plot_3d_grid(names, imgs, threshold=0, step_size=1, n_col=3):\n",
    "\n",
    "    fig = plt.figure(figsize=plt.figaspect(1 / 3), dpi=200)\n",
    "\n",
    "    for i, (name, img) in enumerate(zip(names, imgs)):\n",
    "        ax = fig.add_subplot(\n",
    "            len(imgs) // n_col + (1 if len(imgs) % 3 != 0 else 0),\n",
    "            n_col,\n",
    "            i + 1,\n",
    "            projection='3d',\n",
    "        )\n",
    "\n",
    "        p = img.transpose(2, 1, 0)\n",
    "\n",
    "        verts, faces, _, _ = measure.marching_cubes_lewiner(\n",
    "            p,\n",
    "            threshold,\n",
    "            step_size=step_size,\n",
    "            allow_degenerate=False,\n",
    "        )\n",
    "\n",
    "        mesh = Poly3DCollection(verts[faces], alpha=0.10)\n",
    "        face_color = [0.45, 0.45, 0.75]\n",
    "        mesh.set_facecolor(face_color)\n",
    "        ax.add_collection3d(mesh)\n",
    "        ax.title.set_text(name)\n",
    "        ax.set_xlim(0, p.shape[0])\n",
    "        ax.set_ylim(0, p.shape[1])\n",
    "        ax.set_zlim(0, p.shape[2])\n",
    "\n",
    "    plt.show()"
   ]
  },
  {
   "cell_type": "markdown",
   "metadata": {},
   "source": [
    "## Function for One Case (Input Case Name. Output Its Name, 3D PTV and 2D GTV Numpy Array)"
   ]
  },
  {
   "cell_type": "code",
   "execution_count": null,
   "metadata": {},
   "outputs": [],
   "source": [
    "def func(\n",
    "        case_path: Path,\n",
    "        dialated_size: int = 15,\n",
    "        need_plot: bool = False,\n",
    "        return_result: bool = False,\n",
    ") -> Union[tuple, None]:\n",
    "    \"\"\"\n",
    "    \n",
    "    :param case_path: Path of One Case.\n",
    "    :param dialated_size: Dialated size (in mm).\n",
    "    :param need_plot: Whether to plot 3D results. Default to False.\n",
    "    :param return_result: Whether to return results or None.\n",
    "    \n",
    "    \"\"\"\n",
    "    assert case_path.exists()\n",
    "    assert isinstance(dialated_size, int) and dialated_size > 0\n",
    "    assert isinstance(need_plot, bool)\n",
    "    assert isinstance(return_result, bool)\n",
    "\n",
    "    case_id = case_path.stem\n",
    "    nii_f = case_path / f'{case_id}.nii'\n",
    "    label_nrrd_f = case_path / 'Segmentation-label.nrrd'\n",
    "    seg_nrrd_f = case_path / 'Segmentation.seg.nrrd'\n",
    "\n",
    "    assert nii_f.exists()\n",
    "    assert label_nrrd_f.exists()\n",
    "    assert seg_nrrd_f.exists()\n",
    "\n",
    "    # Load '*.nii' File\n",
    "    img = nib.load(str(nii_f)).get_data()\n",
    "    img = img.astype(np.int16)\n",
    "    # Load 'Segmentation-label.nrrd' FIle\n",
    "    gtv_seg, header = nrrd.read(str(label_nrrd_f))\n",
    "    gtv_seg = gtv_seg.astype(np.bool)\n",
    "    #     plot_3d(gtv_seg)\n",
    "\n",
    "    #Step1 Get 3D PTV and save it\n",
    "\n",
    "    #     f'spacing = {header[\"space directions\"][0, 0]}'\n",
    "    #     f'n_dialated = {int(round(15 / header[\"space directions\"][0, 0]))}'\n",
    "\n",
    "    dilated_gtv_seg = scipy.ndimage.binary_dilation(\n",
    "        input=gtv_seg,\n",
    "        iterations=int(round(dialated_size /\n",
    "                             header['space directions'][0, 0])),\n",
    "    )\n",
    "    #     plot_3d(dilated_gtv_seg)\n",
    "\n",
    "    ptv_seg = gtv_seg ^ dilated_gtv_seg\n",
    "    if need_plot:\n",
    "        plot_3d(ptv_seg)\n",
    "    # Save PTV Mask to NRRD File\n",
    "    ptv_f = case_path / 'ptv_seg.nrrd'\n",
    "    nrrd.write(filename=str(ptv_f),\n",
    "               data=ptv_seg.astype(np.int16),\n",
    "               header=header)\n",
    "\n",
    "    #Step2 Get 2D GTV Slice and save it\n",
    "    ## Find Slice with Max Area in Original Label\n",
    "    #Slice index with max area in original label\n",
    "    max_area, max_index = 0, 0\n",
    "    for index in range(gtv_seg.shape[2]):  #(512, 512, 298)\n",
    "        one_slice = gtv_seg[:, :, index]\n",
    "        if one_slice.sum() > max_area:\n",
    "            max_area = one_slice.sum()\n",
    "            max_index = index\n",
    "    gtv_slice = gtv_seg[:, :, max_index]\n",
    "    gtv_slice_seg = np.zeros(gtv_seg.shape, dtype=np.bool)\n",
    "    gtv_slice_seg[:, :, max_index] = gtv_slice\n",
    "    if need_plot:\n",
    "        plot_3d(gtv_slice_seg)\n",
    "\n",
    "    gtv_slice_f = case_path / 'gtv_slice_seg.nrrd'\n",
    "    nrrd.write(filename=str(gtv_slice_f),\n",
    "               data=gtv_slice_seg.astype(np.int16),\n",
    "               header=header)\n",
    "\n",
    "    if return_result:\n",
    "        return case_id, ptv_seg, gtv_slice_seg\n",
    "    else:\n",
    "        return None"
   ]
  },
  {
   "cell_type": "markdown",
   "metadata": {},
   "source": [
    "## Process All Patients"
   ]
  },
  {
   "cell_type": "code",
   "execution_count": null,
   "metadata": {
    "scrolled": false
   },
   "outputs": [],
   "source": [
    "results = []\n",
    "\n",
    "segmented_path = Path('F:\\segmentation_samples')\n",
    "\n",
    "# for one_path in tqdm(segmented_path.iterdir()):\n",
    "for one_path in segmented_path.iterdir():\n",
    "    \n",
    "    if not one_path.is_dir() or 'checkpoint' in str(one_path):\n",
    "        continue\n",
    "    print('one_path =',one_path)\n",
    "#     results.append(func(case_path=one_path, return_result=True))\n",
    "    func(case_path=one_path, return_result=False)"
   ]
  },
  {
   "cell_type": "markdown",
   "metadata": {},
   "source": [
    "## (Optional) Check Results\n",
    "### Check PTV Mask"
   ]
  },
  {
   "cell_type": "code",
   "execution_count": null,
   "metadata": {},
   "outputs": [],
   "source": [
    "plot_3d_grid(\n",
    "    names=[i[0] for i in results],\n",
    "    imgs=[i[1] for i in results],\n",
    "    threshold=0,\n",
    "    step_size=1,\n",
    "    n_col=3,\n",
    ")"
   ]
  },
  {
   "cell_type": "markdown",
   "metadata": {},
   "source": [
    "### Check 2D GTV Mask"
   ]
  },
  {
   "cell_type": "code",
   "execution_count": null,
   "metadata": {},
   "outputs": [],
   "source": [
    "plot_3d_grid(\n",
    "    names=[i[0] for i in results],\n",
    "    imgs=[i[2] for i in results],\n",
    "    threshold=0,\n",
    "    step_size=1,\n",
    "    n_col=3,\n",
    ")"
   ]
  },
  {
   "cell_type": "code",
   "execution_count": null,
   "metadata": {},
   "outputs": [],
   "source": []
  }
 ],
 "metadata": {
  "kernelspec": {
   "display_name": "Python 3",
   "language": "python",
   "name": "python3"
  },
  "language_info": {
   "codemirror_mode": {
    "name": "ipython",
    "version": 3
   },
   "file_extension": ".py",
   "mimetype": "text/x-python",
   "name": "python",
   "nbconvert_exporter": "python",
   "pygments_lexer": "ipython3",
   "version": "3.7.7"
  }
 },
 "nbformat": 4,
 "nbformat_minor": 2
}
